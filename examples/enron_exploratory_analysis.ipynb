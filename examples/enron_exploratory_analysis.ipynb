{
 "cells": [
  {
   "cell_type": "markdown",
   "metadata": {},
   "source": [
    "# Exploratory Analysis of Enron Network\n",
    "Here we fit CHIP to the Enron dataset and analyze various aspects of the fitted model. For an interpretative analysis of the model please check out the paper."
   ]
  },
  {
   "cell_type": "code",
   "execution_count": 1,
   "metadata": {
    "ExecuteTime": {
     "end_time": "2020-07-17T05:11:52.239559Z",
     "start_time": "2020-07-17T05:11:51.468063Z"
    }
   },
   "outputs": [],
   "source": [
    "import sys\n",
    "from os.path import join\n",
    "sys.path.insert(0, join('..', '.'))\n",
    "\n",
    "import numpy as np\n",
    "import dataset_utils\n",
    "import matplotlib.pyplot as plt\n",
    "from plotting_utils import heatmap\n",
    "from scipy.sparse.linalg import svds\n",
    "import generative_model_utils as utils\n",
    "import model_fitting_utils as fitting_utils\n",
    "import parameter_estimation as estimate_utils\n",
    "from spectral_clustering import spectral_cluster"
   ]
  },
  {
   "cell_type": "markdown",
   "metadata": {},
   "source": [
    "## Loading Enron Dataset\n",
    "Here we load both the train and test set of the Enron Dataset and combine them into one network.\n",
    "\n",
    "data_event_dict is a dictionary with a tuple of (node 1, node 2) as key and a list of event times between the two nodes as value.\n"
   ]
  },
  {
   "cell_type": "code",
   "execution_count": 2,
   "metadata": {
    "ExecuteTime": {
     "end_time": "2020-07-17T05:11:55.300502Z",
     "start_time": "2020-07-17T05:11:55.168582Z"
    }
   },
   "outputs": [
    {
     "name": "stdout",
     "output_type": "stream",
     "text": [
      "Number of node: 142\n",
      "Number of events: 4,000\n",
      "Duration of the network: 1000\n"
     ]
    }
   ],
   "source": [
    "train_file_path = join('..', 'storage', 'datasets', 'enron', 'train_enron.csv')\n",
    "test_file_path = join('..', 'storage', 'datasets', 'enron', 'test_enron.csv')\n",
    "\n",
    "*_, enron_combined_tuple, _ = dataset_utils.load_train_test(train_file_path, test_file_path, \n",
    "                                                            combined_duration=1000, \n",
    "                                                            remove_nodes_not_in_train=False)\n",
    "data_event_dict, data_num_nodes, data_duration = enron_combined_tuple\n",
    "\n",
    "print(f\"Number of node: {data_num_nodes:,}\")\n",
    "print(f\"Number of events: {utils.num_events_in_event_dict(data_event_dict):,}\")\n",
    "print(\"Duration of the network:\", data_duration)"
   ]
  },
  {
   "cell_type": "markdown",
   "metadata": {},
   "source": [
    "## Fitting CHIP"
   ]
  },
  {
   "cell_type": "markdown",
   "metadata": {},
   "source": [
    "### Get the aggregated adjacency matrix"
   ]
  },
  {
   "cell_type": "code",
   "execution_count": 3,
   "metadata": {
    "ExecuteTime": {
     "end_time": "2020-06-11T17:37:02.289165Z",
     "start_time": "2020-06-11T17:37:02.284990Z"
    }
   },
   "outputs": [],
   "source": [
    "agg_adj = utils.event_dict_to_aggregated_adjacency(data_num_nodes, data_event_dict)"
   ]
  },
  {
   "cell_type": "markdown",
   "metadata": {},
   "source": [
    "### Singular value decomposition to find the number of clusters\n",
    "The gap between the second and the third largest singular values suggests 2 as an appropriate number of classes."
   ]
  },
  {
   "cell_type": "code",
   "execution_count": 4,
   "metadata": {
    "ExecuteTime": {
     "end_time": "2020-06-11T17:37:03.125018Z",
     "start_time": "2020-06-11T17:37:02.974089Z"
    }
   },
   "outputs": [
    {
     "data": {
      "image/png": "[encoded data removed]",
      "text/plain": [
       "<Figure size 432x288 with 1 Axes>"
      ]
     },
     "metadata": {
      "needs_background": "light"
     },
     "output_type": "display_data"
    }
   ],
   "source": [
    "u, s, v = svds(agg_adj, k=20)\n",
    "\n",
    "plt.scatter(np.arange(20, 0, -1), s, s=80, marker='*', color='blue')\n",
    "plt.xlabel('Rank')\n",
    "plt.ylabel('Singular Values')\n",
    "plt.grid(True)\n",
    "plt.show()"
   ]
  },
  {
   "cell_type": "markdown",
   "metadata": {},
   "source": [
    "### Run spectral clustering"
   ]
  },
  {
   "cell_type": "code",
   "execution_count": 5,
   "metadata": {
    "ExecuteTime": {
     "end_time": "2020-06-11T17:37:03.957950Z",
     "start_time": "2020-06-11T17:37:03.934755Z"
    }
   },
   "outputs": [
    {
     "name": "stdout",
     "output_type": "stream",
     "text": [
      "Community assignment prob: [0.45774648 0.54225352]\n"
     ]
    }
   ],
   "source": [
    "num_classes = 2\n",
    "node_membership = spectral_cluster(agg_adj, num_classes=num_classes)\n",
    "print(\"Community assignment prob:\", np.unique(node_membership, return_counts=True)[1] / data_num_nodes)"
   ]
  },
  {
   "cell_type": "markdown",
   "metadata": {},
   "source": [
    "### CHIP parameter estimation\n",
    "\n",
    "Keep in mind that all parameters can be estimated at once as follows, however, we estimate each one separately here for demonstration."
   ]
  },
  {
   "cell_type": "code",
   "execution_count": 6,
   "metadata": {
    "ExecuteTime": {
     "end_time": "2020-06-11T17:34:58.286597Z",
     "start_time": "2020-06-11T17:34:58.283116Z"
    }
   },
   "outputs": [],
   "source": [
    "# (bp_mu, \n",
    "#  bp_alpha, \n",
    "#  bp_beta, \n",
    "#  bp_m) = fitting_utils.estimate_bp_hawkes_params(data_event_dict, node_membership, data_duration, \n",
    "#                                                  num_classes, agg_adj)"
   ]
  },
  {
   "cell_type": "markdown",
   "metadata": {},
   "source": [
    "#### Estimate $\\hat{\\mu}_{ab}$ and $\\hat{m}_{ab}$ using the consistent estimators\n",
    "\n",
    "In cases where a block pair $(a, b)$ has no events (which does not happen in this case), we set $\\hat{\\mu}_{ab}$ to a very small number (default_mu) and $\\hat{m}_{ab} = 0$. "
   ]
  },
  {
   "cell_type": "code",
   "execution_count": 7,
   "metadata": {
    "ExecuteTime": {
     "end_time": "2020-06-11T17:35:00.695515Z",
     "start_time": "2020-06-11T17:35:00.689105Z"
    }
   },
   "outputs": [],
   "source": [
    "default_mu = 1e-10 / data_duration\n",
    "bp_mu, bp_m = estimate_utils.estimate_hawkes_from_counts(agg_adj, node_membership, data_duration, default_mu)"
   ]
  },
  {
   "cell_type": "markdown",
   "metadata": {},
   "source": [
    "#### Estimate $\\hat{\\beta}_{ab}$ using line search\n",
    "Loop over all block pairs $(a, b)$ and estimate $\\hat{\\beta}_{ab}$ by maximizing Hawkes log-likelihood using a simple line search."
   ]
  },
  {
   "cell_type": "code",
   "execution_count": 8,
   "metadata": {
    "ExecuteTime": {
     "end_time": "2020-06-11T17:35:02.105922Z",
     "start_time": "2020-06-11T17:35:01.771560Z"
    }
   },
   "outputs": [],
   "source": [
    "bp_beta = np.zeros((num_classes, num_classes), dtype=np.float)\n",
    "block_pair_events = utils.event_dict_to_block_pair_events(data_event_dict, node_membership, num_classes)\n",
    "bp_size = utils.calc_block_pair_size(node_membership, num_classes)\n",
    "\n",
    "for b_i in range(num_classes):\n",
    "    for b_j in range(num_classes):\n",
    "        bp_beta[b_i, b_j], _ = estimate_utils.estimate_beta_from_events(block_pair_events[b_i][b_j],\n",
    "                                                                        bp_mu[b_i, b_j],\n",
    "                                                                        bp_m[b_i, b_j], data_duration, \n",
    "                                                                        bp_size[b_i, b_j])"
   ]
  },
  {
   "cell_type": "markdown",
   "metadata": {},
   "source": [
    "#### Estimate $\\hat{\\alpha}_{ab}$ using $\\hat{m}_{ab}$ and $\\hat{\\beta}_{ab}$"
   ]
  },
  {
   "cell_type": "code",
   "execution_count": 9,
   "metadata": {
    "ExecuteTime": {
     "end_time": "2020-06-11T17:35:06.679760Z",
     "start_time": "2020-06-11T17:35:06.676286Z"
    }
   },
   "outputs": [],
   "source": [
    "bp_alpha = bp_m * bp_beta"
   ]
  },
  {
   "cell_type": "markdown",
   "metadata": {},
   "source": [
    "## Explore the Fitted CHIP Model\n",
    "\n",
    "Here we explore various aspects of the fitted model."
   ]
  },
  {
   "cell_type": "markdown",
   "metadata": {},
   "source": [
    "### Blocks / communities"
   ]
  },
  {
   "cell_type": "markdown",
   "metadata": {},
   "source": [
    "#### Community memberships"
   ]
  },
  {
   "cell_type": "code",
   "execution_count": 1,
   "metadata": {
    "ExecuteTime": {
     "end_time": "2020-07-15T03:54:03.980223Z",
     "start_time": "2020-07-15T03:54:03.902258Z"
    }
   },
   "outputs": [
    {
     "ename": "NameError",
     "evalue": "name 'node_membership' is not defined",
     "output_type": "error",
     "traceback": [
      "\u001b[0;31m---------------------------------------------------------------------------\u001b[0m",
      "\u001b[0;31mNameError\u001b[0m                                 Traceback (most recent call last)",
      "\u001b[0;32m<ipython-input-1-60771f7cd9c6>\u001b[0m in \u001b[0;36m<module>\u001b[0;34m()\u001b[0m\n\u001b[0;32m----> 1\u001b[0;31m \u001b[0mnum_nodes\u001b[0m \u001b[0;34m=\u001b[0m \u001b[0mlen\u001b[0m\u001b[0;34m(\u001b[0m\u001b[0mnode_membership\u001b[0m\u001b[0;34m)\u001b[0m\u001b[0;34m\u001b[0m\u001b[0m\n\u001b[0m\u001b[1;32m      2\u001b[0m \u001b[0mcommunity_membership\u001b[0m \u001b[0;34m=\u001b[0m \u001b[0mutils\u001b[0m\u001b[0;34m.\u001b[0m\u001b[0mnode_membership_to_community_membership\u001b[0m\u001b[0;34m(\u001b[0m\u001b[0mnode_membership\u001b[0m\u001b[0;34m,\u001b[0m \u001b[0mnum_classes\u001b[0m\u001b[0;34m,\u001b[0m \u001b[0mis_one_hot\u001b[0m\u001b[0;34m=\u001b[0m\u001b[0;32mTrue\u001b[0m\u001b[0;34m)\u001b[0m\u001b[0;34m\u001b[0m\u001b[0m\n\u001b[1;32m      3\u001b[0m \u001b[0mcommunity_size\u001b[0m \u001b[0;34m=\u001b[0m \u001b[0;34m[\u001b[0m\u001b[0mlen\u001b[0m\u001b[0;34m(\u001b[0m\u001b[0mcommunity\u001b[0m\u001b[0;34m)\u001b[0m \u001b[0;32mfor\u001b[0m \u001b[0mcommunity\u001b[0m \u001b[0;32min\u001b[0m \u001b[0mcommunity_membership\u001b[0m\u001b[0;34m]\u001b[0m\u001b[0;34m\u001b[0m\u001b[0m\n\u001b[1;32m      4\u001b[0m \u001b[0mnode_ids\u001b[0m \u001b[0;34m=\u001b[0m \u001b[0mnp\u001b[0m\u001b[0;34m.\u001b[0m\u001b[0mconcatenate\u001b[0m\u001b[0;34m(\u001b[0m\u001b[0mcommunity_membership\u001b[0m\u001b[0;34m)\u001b[0m\u001b[0;34m\u001b[0m\u001b[0m\n\u001b[1;32m      5\u001b[0m \u001b[0msorting_map\u001b[0m \u001b[0;34m=\u001b[0m \u001b[0;34m{\u001b[0m\u001b[0;34m}\u001b[0m\u001b[0;34m\u001b[0m\u001b[0m\n",
      "\u001b[0;31mNameError\u001b[0m: name 'node_membership' is not defined"
     ]
    }
   ],
   "source": [
    "num_nodes = len(node_membership)\n",
    "community_membership = utils.node_membership_to_community_membership(node_membership, num_classes)\n",
    "community_size = [len(community) for community in community_membership]\n",
    "node_ids = np.concatenate(community_membership)\n",
    "sorting_map = {}\n",
    "for i in range(node_ids.shape[0]):\n",
    "    sorting_map[node_ids[i]] = i\n",
    "\n",
    "sorted_adj = np.zeros((num_nodes, num_nodes), dtype=np.int)\n",
    "\n",
    "for (u, v), event_times in data_event_dict.items():\n",
    "    if len(event_times) != 0:\n",
    "        sorted_adj[sorting_map[u], sorting_map[v]] = 1\n",
    "\n",
    "plt.spy(sorted_adj, marker='.', markersize=3, precision=0)\n",
    "cumulative_community_size = 0\n",
    "for com_size in community_size:\n",
    "    cumulative_community_size += com_size\n",
    "    plt.axhline(cumulative_community_size, color='black', linewidth=1)\n",
    "    plt.axvline(cumulative_community_size, color='black', linewidth=1)\n",
    "\n",
    "plt.show()"
   ]
  },
  {
   "cell_type": "markdown",
   "metadata": {},
   "source": [
    "#### Number of nodes in each block"
   ]
  },
  {
   "cell_type": "code",
   "execution_count": 12,
   "metadata": {},
   "outputs": [
    {
     "data": {
      "text/plain": [
       "(0, 65)"
      ]
     },
     "execution_count": 12,
     "metadata": {},
     "output_type": "execute_result"
    },
    {
     "data": {
      "image/png": "[encoded data removed]",
      "text/plain": [
       "<Figure size 432x288 with 1 Axes>"
      ]
     },
     "metadata": {
      "needs_background": "light"
     },
     "output_type": "display_data"
    }
   ],
   "source": [
    "blocks, counts = np.unique(node_membership, return_counts=True)\n",
    "percent_membership = 100 * counts / np.sum(counts)\n",
    "fig, ax = plt.subplots()\n",
    "ind = np.arange(1, num_classes + 1)\n",
    "width = 0.75\n",
    "p1 = ax.bar(ind, percent_membership, width, color='blue')\n",
    "\n",
    "rects = ax.patches\n",
    "for rect, label in zip(rects, counts):\n",
    "    height = rect.get_height()\n",
    "    ax.text(rect.get_x() + rect.get_width() / 2, height + 1, label,\n",
    "            ha='center', va='bottom', rotation='vertical')\n",
    "\n",
    "ax.set_xticks(ind)\n",
    "ax.set_xticklabels(np.arange(1, num_classes + 1))\n",
    "plt.xlabel(\"Blocks\")\n",
    "plt.ylabel(\"Percentage of Total Population\")\n",
    "ax.set_ylim(0, 65)"
   ]
  },
  {
   "cell_type": "markdown",
   "metadata": {},
   "source": [
    "#### Number of events per block-pair"
   ]
  },
  {
   "cell_type": "code",
   "execution_count": 13,
   "metadata": {},
   "outputs": [
    {
     "data": {
      "text/plain": [
       "(<matplotlib.image.AxesImage at 0x1a4d655828>,\n",
       " <matplotlib.colorbar.Colorbar at 0x1a4d77a7f0>)"
      ]
     },
     "execution_count": 13,
     "metadata": {},
     "output_type": "execute_result"
    },
    {
     "data": {
      "image/png": "[encoded data removed]",
      "text/plain": [
       "<Figure size 864x216 with 4 Axes>"
      ]
     },
     "metadata": {
      "needs_background": "light"
     },
     "output_type": "display_data"
    }
   ],
   "source": [
    "labels = np.arange(1, num_classes + 1)\n",
    "\n",
    "num_events_block_pair = np.zeros((num_classes, num_classes), dtype=np.int)\n",
    "for i in range(num_classes):\n",
    "    for j in range(num_classes):\n",
    "        num_events_block_pair[i, j] = len(np.concatenate(block_pair_events[i][j]))\n",
    "        \n",
    "fig, axes = plt.subplots(nrows=1, ncols=2, figsize=(12, 3))\n",
    "heatmap(num_events_block_pair, labels, labels, ax=axes[0], \n",
    "        cmap=\"Greys\", color_bar_format='%d', cbarlabel=\"Number of Events\")\n",
    "heatmap(num_events_block_pair / bp_size, labels, labels, ax=axes[1], \n",
    "        cmap=\"Greys\", color_bar_format='%.2f', cbarlabel=\"Mean Number of \\n Node-pair Events\")"
   ]
  },
  {
   "cell_type": "markdown",
   "metadata": {},
   "source": [
    "### CHIP model parameters"
   ]
  },
  {
   "cell_type": "code",
   "execution_count": 14,
   "metadata": {},
   "outputs": [
    {
     "data": {
      "image/png": "[encoded data removed]",
      "text/plain": [
       "<Figure size 1728x576 with 10 Axes>"
      ]
     },
     "metadata": {
      "needs_background": "light"
     },
     "output_type": "display_data"
    }
   ],
   "source": [
    "labels = np.arange(1, num_classes + 1)\n",
    "fig, axes = plt.subplots(nrows=2, ncols=3, figsize=(24, 8))\n",
    "heatmap(bp_mu, labels, labels, ax=axes[0, 0], cmap=\"Greys\", color_bar_format='%.1e', cbarlabel=r\"$\\mu$\")\n",
    "heatmap(bp_m, labels, labels, ax=axes[0, 1], cmap=\"Greys\", color_bar_format='%.3f', cbarlabel=r\"$m$\")\n",
    "heatmap(bp_alpha, labels, labels, ax=axes[0, 2], cmap=\"Greys\", color_bar_format='%.1e', cbarlabel=r\"$\\alpha$\")\n",
    "heatmap(bp_beta, labels, labels, ax=axes[1, 0], cmap=\"Greys\", color_bar_format='%.1e', cbarlabel=r\"$\\beta$\")\n",
    "heatmap(bp_mu / (1 - bp_m), labels, labels, ax=axes[1, 1], cmap=\"Greys\", color_bar_format='%.1e', \n",
    "        cbarlabel=r\"$\\mu / (1-m)$\")\n",
    "axes[1, 2].remove()"
   ]
  },
  {
   "cell_type": "markdown",
   "metadata": {},
   "source": [
    "### Confidence interval for $\\hat{m}_{ab}$\n",
    "Block-pair $(a, b): m \\pm 95\\%$  confidence interval"
   ]
  },
  {
   "cell_type": "code",
   "execution_count": 15,
   "metadata": {},
   "outputs": [
    {
     "name": "stdout",
     "output_type": "stream",
     "text": [
      "(1, 1): 0.924 +/- 0.036\n",
      "(1, 2): 0.813 +/- 0.042\n",
      "(2, 1): 0.785 +/- 0.057\n",
      "(2, 2): 0.754 +/- 0.044\n"
     ]
    }
   ],
   "source": [
    "significance_level = 0.05\n",
    "_, m_ci = fitting_utils.compute_mu_and_m_confidence_interval(data_event_dict, node_membership, num_classes, \n",
    "                                                             z_alpha=significance_level, duration=data_duration)\n",
    "for a in range(num_classes):\n",
    "    for b in range(num_classes):\n",
    "        print(f\"({a + 1}, {b + 1}): {bp_m[a, b]:.3f} +/- {m_ci[a, b]:.3f}\")"
   ]
  }
 ],
 "metadata": {
  "kernelspec": {
   "display_name": "Python 3",
   "language": "python",
   "name": "python3"
  },
  "language_info": {
   "codemirror_mode": {
    "name": "ipython",
    "version": 3
   },
   "file_extension": ".py",
   "mimetype": "text/x-python",
   "name": "python",
   "nbconvert_exporter": "python",
   "pygments_lexer": "ipython3",
   "version": "3.6.4"
  },
  "toc": {
   "base_numbering": 1,
   "nav_menu": {},
   "number_sections": true,
   "sideBar": true,
   "skip_h1_title": false,
   "title_cell": "Table of Contents",
   "title_sidebar": "Contents",
   "toc_cell": false,
   "toc_position": {},
   "toc_section_display": true,
   "toc_window_display": false
  },
  "varInspector": {
   "cols": {
    "lenName": 16,
    "lenType": 16,
    "lenVar": 40
   },
   "kernels_config": {
    "python": {
     "delete_cmd_postfix": "",
     "delete_cmd_prefix": "del ",
     "library": "var_list.py",
     "varRefreshCmd": "print(var_dic_list())"
    },
    "r": {
     "delete_cmd_postfix": ") ",
     "delete_cmd_prefix": "rm(",
     "library": "var_list.r",
     "varRefreshCmd": "cat(var_dic_list()) "
    }
   },
   "types_to_exclude": [
    "module",
    "function",
    "builtin_function_or_method",
    "instance",
    "_Feature"
   ],
   "window_display": false
  }
 },
 "nbformat": 4,
 "nbformat_minor": 2
}
