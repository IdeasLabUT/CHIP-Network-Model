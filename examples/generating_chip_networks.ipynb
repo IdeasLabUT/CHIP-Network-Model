{
 "cells": [
  {
   "cell_type": "markdown",
   "metadata": {},
   "source": [
    "In this notebook we demonstrate how to generate and fit continuous-time networks of timestamped relational events using the CHIP network model.\n",
    "\n",
    "All functions that are imported from the CHIP repository are documented in the code. Refer to the documentation for more detail."
   ]
  },
  {
   "cell_type": "code",
   "execution_count": 1,
   "metadata": {
    "ExecuteTime": {
     "end_time": "2020-07-17T05:27:53.099597Z",
     "start_time": "2020-07-17T05:27:52.480216Z"
    }
   },
   "outputs": [],
   "source": [
    "import sys  \n",
    "from os.path import join\n",
    "sys.path.insert(0, join('..', '.'))\n",
    "\n",
    "import numpy as np\n",
    "import matplotlib.pyplot as plt\n",
    "import generative_model_utils as utils\n",
    "import model_fitting_utils as fitting_utils\n",
    "from sklearn.metrics import adjusted_rand_score\n",
    "from spectral_clustering import spectral_cluster\n",
    "from chip_generative_model import community_generative_model"
   ]
  },
  {
   "cell_type": "markdown",
   "metadata": {},
   "source": [
    "# Generating Networks Using CHIP"
   ]
  },
  {
   "cell_type": "markdown",
   "metadata": {
    "ExecuteTime": {
     "end_time": "2020-07-14T02:33:49.091643Z",
     "start_time": "2020-07-14T02:33:49.077911Z"
    }
   },
   "source": [
    "## CHIP model parameters description"
   ]
  },
  {
   "cell_type": "markdown",
   "metadata": {},
   "source": [
    "The CHIP model has parameters ($\\vec{\\pi}, \\mu, \\alpha, \\beta$). Each node is assigned to a community or block $a \\in \\{1, \\ldots, k\\}$ with probability $\\pi_a$, where each entry of $\\vec{\\pi}$ is non-negative and all entries sum to $1$.\n",
    "\n",
    "CHIP networks can be generated using:\n",
    "\n",
    "`community_generative_model(num_nodes, class_prob, bp_mu, bp_alpha, bp_beta, end_time, burnin=None, seed=None)`\n",
    "\n",
    "`num_nodes:` (int) Total number of nodes in the network\n",
    "\n",
    "`class_prob:` (list) Probability of class memberships from class $0$ to $k - 1$. Make sure it sums up to 1\n",
    "\n",
    "`bp_mu:` $k \\times k$ matrix where entry $ij$ denotes the $\\mu$ of Hawkes process for block pair $(b_i, b_j)$\n",
    "\n",
    "`bp_alpha:` $k \\times k$ matrix where entry $ij$ denotes the $\\alpha$ of Hawkes process for block pair $(b_i, b_j)$\n",
    "\n",
    "`bp_beta:` $k \\times k$ matrix where entry $ij$ denotes the $\\beta$ of Hawkes process for block pair $(b_i, b_j)$\n",
    "\n",
    "`end_time:` (float) end_time of hawkes simulation\n",
    "\n",
    "`burnin:` (int) Optional - default is None. Time before which all events are discarded. None if no burnin needed.\n",
    "\n",
    "`n_cores:` (int) Optional - default is 1 (no parallelization). Number of parallel cores to be used. If -1, maximum number of cores will be used\n",
    "\n",
    "`seed:` (int) Optional - default is None. Seed for all random processes"
   ]
  },
  {
   "cell_type": "markdown",
   "metadata": {},
   "source": [
    "Most simulations in the paper break down $\\mu, \\alpha,$ and  $\\beta$ parameters to diagonal vs. off-diagonal entires. All diagonal entires will have the same value and so do the off-diagonal ones.\n",
    "\n",
    "Here we are going to follow the same structure; however, you are free to set a unique value for every entry of the those matrices."
   ]
  },
  {
   "cell_type": "code",
   "execution_count": 2,
   "metadata": {
    "ExecuteTime": {
     "end_time": "2020-07-17T05:27:53.439766Z",
     "start_time": "2020-07-17T05:27:53.423782Z"
    }
   },
   "outputs": [],
   "source": [
    "end_time = 10000\n",
    "num_nodes = 256\n",
    "class_probabilities = [0.2, 0.1, 0.3, 0.4] # The length of this list indicates the number of communites\n",
    "\n",
    "num_classes = len(class_probabilities)\n",
    "\n",
    "bp_mu = np.ones((num_classes, num_classes), dtype=np.float) * 0.0001\n",
    "np.fill_diagonal(bp_mu, 0.0005)\n",
    "\n",
    "bp_alpha = np.ones((num_classes, num_classes), dtype=np.float) * 0.09\n",
    "np.fill_diagonal(bp_alpha, 0.14)\n",
    "\n",
    "bp_beta = np.ones((num_classes, num_classes), dtype=np.float) * 0.13\n",
    "np.fill_diagonal(bp_beta, 0.18)"
   ]
  },
  {
   "cell_type": "markdown",
   "metadata": {},
   "source": [
    "## Generating a network"
   ]
  },
  {
   "cell_type": "markdown",
   "metadata": {},
   "source": [
    "The model returns the membership of the $n$ nodes in the network as well as a dictionary of events between node pairs."
   ]
  },
  {
   "cell_type": "code",
   "execution_count": 3,
   "metadata": {
    "ExecuteTime": {
     "end_time": "2020-07-17T05:28:02.784774Z",
     "start_time": "2020-07-17T05:27:53.982934Z"
    }
   },
   "outputs": [],
   "source": [
    "node_membership, event_dict = community_generative_model(num_nodes,\n",
    "                                                          class_probabilities,\n",
    "                                                          bp_mu, bp_alpha, bp_beta,\n",
    "                                                          end_time, \n",
    "                                                          n_cores=-1,\n",
    "                                                          seed=42)"
   ]
  },
  {
   "cell_type": "markdown",
   "metadata": {},
   "source": [
    "### Node membership"
   ]
  },
  {
   "cell_type": "markdown",
   "metadata": {},
   "source": [
    "`node_membership` is a one-hot 2D ($k$, $n$) Numpy array:"
   ]
  },
  {
   "cell_type": "code",
   "execution_count": 4,
   "metadata": {
    "ExecuteTime": {
     "end_time": "2020-07-17T05:28:41.384151Z",
     "start_time": "2020-07-17T05:28:41.380456Z"
    }
   },
   "outputs": [
    {
     "data": {
      "text/plain": [
       "array([[0, 0, 1, 0],\n",
       "       [0, 1, 0, 0],\n",
       "       [0, 0, 1, 0],\n",
       "       ...,\n",
       "       [0, 0, 0, 1],\n",
       "       [1, 0, 0, 0],\n",
       "       [0, 0, 0, 1]])"
      ]
     },
     "execution_count": 4,
     "metadata": {},
     "output_type": "execute_result"
    }
   ],
   "source": [
    "node_membership"
   ]
  },
  {
   "cell_type": "markdown",
   "metadata": {},
   "source": [
    "`node_membership` can be easily converted to a list of community indices for each node:"
   ]
  },
  {
   "cell_type": "code",
   "execution_count": 5,
   "metadata": {
    "ExecuteTime": {
     "end_time": "2020-07-17T05:29:19.548100Z",
     "start_time": "2020-07-17T05:29:19.545308Z"
    }
   },
   "outputs": [
    {
     "data": {
      "text/plain": [
       "array([2, 1, 2, 1, 2, 3, 3, 3, 3, 3, 0, 2, 3, 3, 2, 2, 2, 3, 2, 2, 3, 2,\n",
       "       2, 3, 2, 1, 0, 3, 3, 0, 2, 2, 3, 1, 0, 3, 3, 2, 3, 3, 3, 2, 2, 0,\n",
       "       3, 1, 3, 0, 2, 0, 1, 3, 3, 3, 0, 0, 1, 3, 3, 3, 2, 1, 0, 3, 3, 2,\n",
       "       1, 0, 2, 0, 3, 3, 1, 0, 2, 3, 2, 0, 3, 3, 0, 1, 0, 2, 0, 2, 3, 2,\n",
       "       3, 3, 2, 3, 0, 3, 2, 0, 1, 1, 2, 3, 0, 0, 3, 3, 3, 3, 3, 0, 3, 0,\n",
       "       0, 0, 3, 3, 2, 3, 0, 3, 2, 2, 3, 2, 2, 1, 2, 2, 1, 0, 3, 0, 2, 0,\n",
       "       2, 2, 1, 2, 2, 3, 0, 3, 0, 3, 2, 2, 2, 3, 3, 3, 3, 2, 3, 3, 3, 2,\n",
       "       1, 3, 3, 0, 3, 1, 3, 3, 2, 0, 3, 2, 3, 2, 0, 3, 1, 3, 3, 2, 2, 1,\n",
       "       2, 3, 3, 1, 1, 2, 2, 3, 0, 3, 3, 3, 3, 3, 3, 2, 3, 2, 0, 2, 3, 2,\n",
       "       3, 0, 1, 2, 3, 3, 0, 3, 3, 1, 3, 1, 3, 3, 1, 1, 3, 2, 3, 2, 2, 0,\n",
       "       2, 3, 2, 1, 2, 0, 2, 3, 3, 1, 3, 3, 3, 3, 3, 3, 2, 3, 2, 2, 3, 3,\n",
       "       1, 2, 3, 3, 3, 3, 3, 3, 0, 2, 3, 3, 0, 3])"
      ]
     },
     "execution_count": 5,
     "metadata": {},
     "output_type": "execute_result"
    }
   ],
   "source": [
    "np.argmax(node_membership, axis=1)"
   ]
  },
  {
   "cell_type": "markdown",
   "metadata": {},
   "source": [
    "### Event dictionary"
   ]
  },
  {
   "cell_type": "markdown",
   "metadata": {},
   "source": [
    "`event_dict` is a dictionary $\\rightarrow$ (node 1 id, node 2 id): [timestamp of events]"
   ]
  },
  {
   "cell_type": "code",
   "execution_count": 6,
   "metadata": {
    "ExecuteTime": {
     "end_time": "2020-07-17T05:29:57.708177Z",
     "start_time": "2020-07-17T05:29:57.705189Z"
    }
   },
   "outputs": [
    {
     "name": "stdout",
     "output_type": "stream",
     "text": [
      "(10, 26) : [ 710.15815026 4923.76364919 4932.11188115 4943.7920458  7766.88506809]\n"
     ]
    }
   ],
   "source": [
    "for key, val in event_dict.items():\n",
    "    print(key, ':', val)\n",
    "    break"
   ]
  },
  {
   "cell_type": "markdown",
   "metadata": {},
   "source": [
    "Number of generated events in the network:"
   ]
  },
  {
   "cell_type": "code",
   "execution_count": 7,
   "metadata": {
    "ExecuteTime": {
     "end_time": "2020-07-17T05:30:35.867238Z",
     "start_time": "2020-07-17T05:30:35.859331Z"
    }
   },
   "outputs": [
    {
     "data": {
      "text/plain": [
       "601450"
      ]
     },
     "execution_count": 7,
     "metadata": {},
     "output_type": "execute_result"
    }
   ],
   "source": [
    "utils.num_events_in_event_dict(event_dict)"
   ]
  },
  {
   "cell_type": "markdown",
   "metadata": {},
   "source": [
    "Using `generative_model_utils` you can convert `event_dict` into weighted and unweighted adjacency matrix"
   ]
  },
  {
   "cell_type": "markdown",
   "metadata": {},
   "source": [
    "#### Event dictionary to adjacency matrix"
   ]
  },
  {
   "cell_type": "code",
   "execution_count": 8,
   "metadata": {
    "ExecuteTime": {
     "end_time": "2020-07-17T05:31:13.806296Z",
     "start_time": "2020-07-17T05:31:13.785409Z"
    }
   },
   "outputs": [
    {
     "data": {
      "text/plain": [
       "array([[0., 0., 1., ..., 0., 0., 1.],\n",
       "       [0., 0., 1., ..., 0., 1., 1.],\n",
       "       [1., 1., 0., ..., 0., 1., 1.],\n",
       "       ...,\n",
       "       [1., 1., 0., ..., 0., 0., 1.],\n",
       "       [0., 0., 0., ..., 0., 0., 1.],\n",
       "       [1., 0., 1., ..., 1., 1., 0.]])"
      ]
     },
     "execution_count": 8,
     "metadata": {},
     "output_type": "execute_result"
    }
   ],
   "source": [
    "utils.event_dict_to_adjacency(num_nodes, event_dict, dtype=np.float)"
   ]
  },
  {
   "cell_type": "markdown",
   "metadata": {},
   "source": [
    "#### Event dictionary to aggregate / wighted adjacency matrix"
   ]
  },
  {
   "cell_type": "code",
   "execution_count": 9,
   "metadata": {
    "ExecuteTime": {
     "end_time": "2020-07-17T05:31:50.144113Z",
     "start_time": "2020-07-17T05:31:50.130299Z"
    }
   },
   "outputs": [
    {
     "data": {
      "text/plain": [
       "array([[ 0.,  0.,  9., ...,  0.,  0.,  1.],\n",
       "       [ 0.,  0.,  5., ...,  0.,  3.,  1.],\n",
       "       [ 8.,  2.,  0., ...,  0.,  4.,  3.],\n",
       "       ...,\n",
       "       [13.,  3.,  0., ...,  0.,  0.,  2.],\n",
       "       [ 0.,  0.,  0., ...,  0.,  0.,  5.],\n",
       "       [ 4.,  0.,  1., ..., 39.,  3.,  0.]])"
      ]
     },
     "execution_count": 9,
     "metadata": {},
     "output_type": "execute_result"
    }
   ],
   "source": [
    "utils.event_dict_to_aggregated_adjacency(num_nodes, event_dict, dtype=np.float)"
   ]
  },
  {
   "cell_type": "markdown",
   "metadata": {},
   "source": [
    "#### Event dictionary to event list"
   ]
  },
  {
   "cell_type": "markdown",
   "metadata": {},
   "source": [
    "Most timestamped relational event datasets come in the event list format where every entry in the list has the format $\\rightarrow$ [node from, node to, timestamp], sorted by event times. This can be done as follows:"
   ]
  },
  {
   "cell_type": "code",
   "execution_count": 10,
   "metadata": {
    "ExecuteTime": {
     "end_time": "2020-07-17T05:32:28.735680Z",
     "start_time": "2020-07-17T05:32:28.131241Z"
    }
   },
   "outputs": [
    {
     "data": {
      "text/plain": [
       "array([[6.80000000e+01, 2.28000000e+02, 3.69994523e-02],\n",
       "       [2.05000000e+02, 2.07000000e+02, 4.68303159e-02],\n",
       "       [9.00000000e+00, 1.04000000e+02, 6.49292809e-02],\n",
       "       ...,\n",
       "       [1.99000000e+02, 4.40000000e+01, 9.99993051e+03],\n",
       "       [1.17000000e+02, 1.78000000e+02, 9.99996070e+03],\n",
       "       [1.18000000e+02, 1.90000000e+01, 9.99997372e+03]])"
      ]
     },
     "execution_count": 10,
     "metadata": {},
     "output_type": "execute_result"
    }
   ],
   "source": [
    "utils.event_dict_to_event_list(event_dict)"
   ]
  },
  {
   "cell_type": "markdown",
   "metadata": {},
   "source": [
    "Here node id's are float to accommodate the timestamp. They can be converted to int if needed."
   ]
  },
  {
   "cell_type": "markdown",
   "metadata": {},
   "source": [
    "## Generated community structure"
   ]
  },
  {
   "cell_type": "code",
   "execution_count": 11,
   "metadata": {
    "ExecuteTime": {
     "end_time": "2020-07-17T05:33:07.319516Z",
     "start_time": "2020-07-17T05:33:07.081143Z"
    }
   },
   "outputs": [
    {
     "data": {
      "image/png": "[encoded data removed]",
      "text/plain": [
       "<matplotlib.figure.Figure at 0x7f4a161f6208>"
      ]
     },
     "metadata": {},
     "output_type": "display_data"
    }
   ],
   "source": [
    "community_membership = utils.node_membership_to_community_membership(node_membership, num_classes, is_one_hot=True)\n",
    "community_size = [len(community) for community in community_membership]\n",
    "node_ids = np.concatenate(community_membership)\n",
    "sorting_map = {}\n",
    "for i in range(node_ids.shape[0]):\n",
    "    sorting_map[node_ids[i]] = i\n",
    "\n",
    "sorted_adj = np.zeros((num_nodes, num_nodes), dtype=np.int)\n",
    "\n",
    "for (u, v), event_times in event_dict.items():\n",
    "    if len(event_times) != 0:\n",
    "        sorted_adj[sorting_map[u], sorting_map[v]] = 1\n",
    "\n",
    "plt.spy(sorted_adj, marker='.', markersize=0.5, precision=0)\n",
    "cumulative_community_size = 0\n",
    "for com_size in community_size:\n",
    "    cumulative_community_size += com_size\n",
    "    plt.axhline(cumulative_community_size, color='black', linewidth=1)\n",
    "    plt.axvline(cumulative_community_size, color='black', linewidth=1)\n",
    "\n",
    "plt.show()"
   ]
  },
  {
   "cell_type": "markdown",
   "metadata": {},
   "source": [
    "Here we can see the generated community structure in the generated network with the relative size of each community as well as more inter-community interactions vs. intra-community. Obviously this structure will change based on the model parameters."
   ]
  },
  {
   "cell_type": "markdown",
   "metadata": {},
   "source": [
    "# Fitting (retrieve / estimate model parameters) the generated CHIP network"
   ]
  },
  {
   "cell_type": "markdown",
   "metadata": {},
   "source": [
    "## Spectral clustering on aggregated adjacency matrix"
   ]
  },
  {
   "cell_type": "code",
   "execution_count": 12,
   "metadata": {
    "ExecuteTime": {
     "end_time": "2020-07-17T05:33:45.267348Z",
     "start_time": "2020-07-17T05:33:45.222181Z"
    }
   },
   "outputs": [
    {
     "name": "stdout",
     "output_type": "stream",
     "text": [
      "Estimated Community assignment prob: [0.27734375 0.44140625 0.1171875  0.1640625 ]\n",
      "True Community assignment distribution: [0.1640625  0.1171875  0.27734375 0.44140625]\n",
      "Adjusted Rank Score: 1.0\n"
     ]
    }
   ],
   "source": [
    "community_membership = utils.one_hot_to_class_assignment(node_membership)\n",
    "\n",
    "agg_adj = utils.event_dict_to_aggregated_adjacency(num_nodes, event_dict, dtype=np.float)\n",
    "est_node_membership = spectral_cluster(agg_adj, num_classes=num_classes)\n",
    "rand = adjusted_rand_score(community_membership, est_node_membership)\n",
    "print(\"Estimated Community assignment prob:\", np.unique(est_node_membership, return_counts=True)[1] / num_nodes)\n",
    "print(\"True Community assignment distribution:\", np.unique(community_membership, return_counts=True)[1] / num_nodes)\n",
    "print(\"Adjusted Rank Score:\", rand)"
   ]
  },
  {
   "cell_type": "markdown",
   "metadata": {},
   "source": [
    "## CHIP parameter estimation"
   ]
  },
  {
   "cell_type": "code",
   "execution_count": 13,
   "metadata": {
    "ExecuteTime": {
     "end_time": "2020-07-17T05:34:48.921819Z",
     "start_time": "2020-07-17T05:34:23.225418Z"
    }
   },
   "outputs": [],
   "source": [
    "(est_bp_mu, \n",
    " est_bp_alpha, \n",
    " est_bp_beta, \n",
    " est_bp_m) = fitting_utils.estimate_bp_hawkes_params(event_dict, est_node_membership, end_time, num_classes, agg_adj)"
   ]
  },
  {
   "cell_type": "markdown",
   "metadata": {},
   "source": [
    "### Estimated $\\mu$"
   ]
  },
  {
   "cell_type": "code",
   "execution_count": 14,
   "metadata": {
    "ExecuteTime": {
     "end_time": "2020-07-17T05:35:27.449549Z",
     "start_time": "2020-07-17T05:35:27.447119Z"
    }
   },
   "outputs": [
    {
     "data": {
      "text/plain": [
       "array([[5.05226538e-04, 9.94665027e-05, 9.36644549e-05, 9.66899268e-05],\n",
       "       [1.00019097e-04, 4.99978681e-04, 1.00606580e-04, 1.01265689e-04],\n",
       "       [9.92538523e-05, 9.86299020e-05, 5.28334711e-04, 1.08211127e-04],\n",
       "       [1.09097819e-04, 1.00433674e-04, 9.55949640e-05, 4.98613313e-04]])"
      ]
     },
     "execution_count": 14,
     "metadata": {},
     "output_type": "execute_result"
    }
   ],
   "source": [
    "est_bp_mu"
   ]
  },
  {
   "cell_type": "code",
   "execution_count": 15,
   "metadata": {
    "ExecuteTime": {
     "end_time": "2020-07-17T05:36:05.755181Z",
     "start_time": "2020-07-17T05:36:05.752570Z"
    }
   },
   "outputs": [
    {
     "name": "stdout",
     "output_type": "stream",
     "text": [
      "MSE: 6.610410938095238e-11\n"
     ]
    }
   ],
   "source": [
    "print('MSE:', np.mean((est_bp_mu - bp_mu) ** 2))"
   ]
  },
  {
   "cell_type": "markdown",
   "metadata": {
    "ExecuteTime": {
     "end_time": "2020-07-15T05:13:22.075903Z",
     "start_time": "2020-07-15T05:13:22.074416Z"
    }
   },
   "source": [
    "### Estimated $m$"
   ]
  },
  {
   "cell_type": "code",
   "execution_count": 16,
   "metadata": {
    "ExecuteTime": {
     "end_time": "2020-07-17T05:36:44.379530Z",
     "start_time": "2020-07-17T05:36:44.376848Z"
    }
   },
   "outputs": [
    {
     "data": {
      "text/plain": [
       "array([[0.77472561, 0.69855334, 0.6973065 , 0.70391316],\n",
       "       [0.70161261, 0.77563946, 0.68807728, 0.69714099],\n",
       "       [0.70080568, 0.69186677, 0.77088466, 0.69761362],\n",
       "       [0.65887627, 0.69198177, 0.69413496, 0.78543816]])"
      ]
     },
     "execution_count": 16,
     "metadata": {},
     "output_type": "execute_result"
    }
   ],
   "source": [
    "est_bp_m"
   ]
  },
  {
   "cell_type": "code",
   "execution_count": 17,
   "metadata": {
    "ExecuteTime": {
     "end_time": "2020-07-17T05:37:22.127087Z",
     "start_time": "2020-07-17T05:37:22.124449Z"
    }
   },
   "outputs": [
    {
     "name": "stdout",
     "output_type": "stream",
     "text": [
      "MSE: 0.00010426713935299519\n"
     ]
    }
   ],
   "source": [
    "print('MSE:', np.mean((est_bp_m - (bp_alpha / bp_beta)) ** 2))"
   ]
  },
  {
   "cell_type": "markdown",
   "metadata": {},
   "source": [
    "### Estimated $\\alpha$"
   ]
  },
  {
   "cell_type": "code",
   "execution_count": 18,
   "metadata": {
    "ExecuteTime": {
     "end_time": "2020-07-17T05:38:00.293668Z",
     "start_time": "2020-07-17T05:38:00.290351Z"
    }
   },
   "outputs": [
    {
     "data": {
      "text/plain": [
       "array([[0.13941077, 0.09308703, 0.0912448 , 0.0921727 ],\n",
       "       [0.09264361, 0.13978861, 0.08992032, 0.09057998],\n",
       "       [0.09020524, 0.08969897, 0.13932129, 0.09441585],\n",
       "       [0.08529118, 0.08957094, 0.08681465, 0.13846801]])"
      ]
     },
     "execution_count": 18,
     "metadata": {},
     "output_type": "execute_result"
    }
   ],
   "source": [
    "est_bp_alpha"
   ]
  },
  {
   "cell_type": "code",
   "execution_count": 19,
   "metadata": {
    "ExecuteTime": {
     "end_time": "2020-07-17T05:38:38.436325Z",
     "start_time": "2020-07-17T05:38:38.433839Z"
    }
   },
   "outputs": [
    {
     "name": "stdout",
     "output_type": "stream",
     "text": [
      "MSE: 4.904174536719918e-06\n"
     ]
    }
   ],
   "source": [
    "print('MSE:', np.mean((est_bp_alpha - bp_alpha) ** 2))"
   ]
  },
  {
   "cell_type": "markdown",
   "metadata": {},
   "source": [
    "### Estimated $\\beta$"
   ]
  },
  {
   "cell_type": "code",
   "execution_count": 20,
   "metadata": {
    "ExecuteTime": {
     "end_time": "2020-07-17T05:39:14.975667Z",
     "start_time": "2020-07-17T05:39:14.973312Z"
    }
   },
   "outputs": [
    {
     "data": {
      "text/plain": [
       "array([[0.17994857, 0.13325687, 0.13085322, 0.13094329],\n",
       "       [0.13204383, 0.1802237 , 0.13068346, 0.12993065],\n",
       "       [0.12871648, 0.12964776, 0.1807291 , 0.13534118],\n",
       "       [0.12944947, 0.12944118, 0.12506884, 0.17629397]])"
      ]
     },
     "execution_count": 20,
     "metadata": {},
     "output_type": "execute_result"
    }
   ],
   "source": [
    "est_bp_beta"
   ]
  },
  {
   "cell_type": "code",
   "execution_count": 21,
   "metadata": {
    "ExecuteTime": {
     "end_time": "2020-07-17T05:39:51.738217Z",
     "start_time": "2020-07-17T05:39:51.735811Z"
    }
   },
   "outputs": [
    {
     "name": "stdout",
     "output_type": "stream",
     "text": [
      "MSE: 5.401529070451339e-06\n"
     ]
    }
   ],
   "source": [
    "print('MSE:', np.mean((est_bp_beta - bp_beta) ** 2))"
   ]
  }
 ],
 "metadata": {
  "kernelspec": {
   "display_name": "Python 3",
   "language": "python",
   "name": "python3"
  },
  "language_info": {
   "codemirror_mode": {
    "name": "ipython",
    "version": 3
   },
   "file_extension": ".py",
   "mimetype": "text/x-python",
   "name": "python",
   "nbconvert_exporter": "python",
   "pygments_lexer": "ipython3",
   "version": "3.7.1"
  },
  "toc": {
   "base_numbering": 1,
   "nav_menu": {},
   "number_sections": true,
   "sideBar": true,
   "skip_h1_title": false,
   "title_cell": "Table of Contents",
   "title_sidebar": "Contents",
   "toc_cell": false,
   "toc_position": {},
   "toc_section_display": true,
   "toc_window_display": false
  },
  "varInspector": {
   "cols": {
    "lenName": 16,
    "lenType": 16,
    "lenVar": 40
   },
   "kernels_config": {
    "python": {
     "delete_cmd_postfix": "",
     "delete_cmd_prefix": "del ",
     "library": "var_list.py",
     "varRefreshCmd": "print(var_dic_list())"
    },
    "r": {
     "delete_cmd_postfix": ") ",
     "delete_cmd_prefix": "rm(",
     "library": "var_list.r",
     "varRefreshCmd": "cat(var_dic_list()) "
    }
   },
   "types_to_exclude": [
    "module",
    "function",
    "builtin_function_or_method",
    "instance",
    "_Feature"
   ],
   "window_display": false
  }
 },
 "nbformat": 4,
 "nbformat_minor": 2
}
