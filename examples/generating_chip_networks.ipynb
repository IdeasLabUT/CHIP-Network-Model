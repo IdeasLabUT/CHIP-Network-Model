{
 "cells": [
  {
   "cell_type": "markdown",
   "metadata": {},
   "source": [
    "In this notebook we demonstrate how to generate and fit continuous-time networks of timestamped relational events using the CHIP network model.\n",
    "\n",
    "All functions that are imported from the CHIP repository are documented in the code. Refer to the documentation for more detail."
   ]
  },
  {
   "cell_type": "code",
   "execution_count": 1,
   "metadata": {
    "ExecuteTime": {
     "end_time": "2020-07-17T05:27:53.099597Z",
     "start_time": "2020-07-17T05:27:52.480216Z"
    }
   },
   "outputs": [],
   "source": [
    "import sys  \n",
    "from os.path import join\n",
    "sys.path.insert(0, join('..', '.'))\n",
    "\n",
    "import numpy as np\n",
    "import matplotlib.pyplot as plt\n",
    "import generative_model_utils as utils\n",
    "import model_fitting_utils as fitting_utils\n",
    "from sklearn.metrics import adjusted_rand_score\n",
    "from spectral_clustering import spectral_cluster\n",
    "from chip_generative_model import community_generative_model"
   ]
  },
  {
   "cell_type": "markdown",
   "metadata": {},
   "source": [
    "# Generating Networks Using CHIP"
   ]
  },
  {
   "cell_type": "markdown",
   "metadata": {
    "ExecuteTime": {
     "end_time": "2020-07-14T02:33:49.091643Z",
     "start_time": "2020-07-14T02:33:49.077911Z"
    }
   },
   "source": [
    "## CHIP model parameters description"
   ]
  },
  {
   "cell_type": "markdown",
   "metadata": {},
   "source": [
    "The CHIP model has parameters ($\\vec{\\pi}, \\mu, \\alpha, \\beta$). Each node is assigned to a community or block $a \\in \\{1, \\ldots, k\\}$ with probability $\\pi_a$, where each entry of $\\vec{\\pi}$ is non-negative and all entries sum to $1$.\n",
    "\n",
    "CHIP networks can be generated using:\n",
    "\n",
    "`community_generative_model(num_nodes, class_prob, bp_mu, bp_alpha, bp_beta, end_time, burnin=None, seed=None)`\n",
    "\n",
    "`num_nodes:` (int) Total number of nodes in the network\n",
    "\n",
    "`class_prob:` (list) Probability of class memberships from class $0$ to $k - 1$. Make sure it sums up to 1\n",
    "\n",
    "`bp_mu:` $k \\times k$ matrix where entry $ij$ denotes the $\\mu$ of Hawkes process for block pair $(b_i, b_j)$\n",
    "\n",
    "`bp_alpha:` $k \\times k$ matrix where entry $ij$ denotes the $\\alpha$ of Hawkes process for block pair $(b_i, b_j)$\n",
    "\n",
    "`bp_beta:` $k \\times k$ matrix where entry $ij$ denotes the $\\beta$ of Hawkes process for block pair $(b_i, b_j)$\n",
    "\n",
    "`end_time:` (float) end_time of hawkes simulation\n",
    "\n",
    "`burnin:` (int) Optional - default is None. Time before which all events are discarded. None if no burnin needed.\n",
    "\n",
    "`n_cores:` (int) Optional - default is 1 (no parallelization). Number of parallel cores to be used. If -1, maximum number of cores will be used\n",
    "\n",
    "`seed:` (int) Optional - default is None. Seed for all random processes"
   ]
  },
  {
   "cell_type": "markdown",
   "metadata": {},
   "source": [
    "Most simulations in the paper break down $\\mu, \\alpha,$ and  $\\beta$ parameters to diagonal vs. off-diagonal entires. All diagonal entires will have the same value and so do the off-diagonal ones.\n",
    "\n",
    "Here we are going to follow the same structure; however, you are free to set a unique value for every entry of the those matrices."
   ]
  },
  {
   "cell_type": "code",
   "execution_count": 2,
   "metadata": {
    "ExecuteTime": {
     "end_time": "2020-07-17T05:27:53.439766Z",
     "start_time": "2020-07-17T05:27:53.423782Z"
    }
   },
   "outputs": [],
   "source": [
    "end_time = 10000\n",
    "num_nodes = 256\n",
    "class_probabilities = [0.2, 0.1, 0.3, 0.4] # The length of this list indicates the number of communites\n",
    "\n",
    "num_classes = len(class_probabilities)\n",
    "\n",
    "bp_mu = np.ones((num_classes, num_classes), dtype=np.float) * 0.0001\n",
    "np.fill_diagonal(bp_mu, 0.0005)\n",
    "\n",
    "bp_alpha = np.ones((num_classes, num_classes), dtype=np.float) * 0.09\n",
    "np.fill_diagonal(bp_alpha, 0.14)\n",
    "\n",
    "bp_beta = np.ones((num_classes, num_classes), dtype=np.float) * 0.13\n",
    "np.fill_diagonal(bp_beta, 0.18)"
   ]
  },
  {
   "cell_type": "markdown",
   "metadata": {},
   "source": [
    "## Generating a network"
   ]
  },
  {
   "cell_type": "markdown",
   "metadata": {},
   "source": [
    "The model returns the membership of the $n$ nodes in the network as well as a dictionary of events between node pairs."
   ]
  },
  {
   "cell_type": "code",
   "execution_count": 3,
   "metadata": {
    "ExecuteTime": {
     "end_time": "2020-07-17T05:28:02.784774Z",
     "start_time": "2020-07-17T05:27:53.982934Z"
    }
   },
   "outputs": [],
   "source": [
    "node_membership, event_dict = community_generative_model(num_nodes,\n",
    "                                                          class_probabilities,\n",
    "                                                          bp_mu, bp_alpha, bp_beta,\n",
    "                                                          end_time, \n",
    "                                                          n_cores=-1,\n",
    "                                                          seed=42)"
   ]
  },
  {
   "cell_type": "markdown",
   "metadata": {},
   "source": [
    "### Node membership"
   ]
  },
  {
   "cell_type": "markdown",
   "metadata": {},
   "source": [
    "`node_membership` is a one-hot 2D ($k$, $n$) Numpy array:"
   ]
  },
  {
   "cell_type": "code",
   "execution_count": 4,
   "metadata": {
    "ExecuteTime": {
     "end_time": "2020-07-17T05:28:41.384151Z",
     "start_time": "2020-07-17T05:28:41.380456Z"
    }
   },
   "outputs": [
    {
     "data": {
      "text/plain": [
       "array([[0, 0, 0, 1],\n",
       "       [0, 0, 0, 1],\n",
       "       [0, 0, 1, 0],\n",
       "       ...,\n",
       "       [0, 0, 0, 1],\n",
       "       [0, 0, 0, 1],\n",
       "       [0, 1, 0, 0]])"
      ]
     },
     "execution_count": 4,
     "metadata": {},
     "output_type": "execute_result"
    }
   ],
   "source": [
    "node_membership"
   ]
  },
  {
   "cell_type": "markdown",
   "metadata": {},
   "source": [
    "`node_membership` can be easily converted to a list of community indices for each node:"
   ]
  },
  {
   "cell_type": "code",
   "execution_count": 5,
   "metadata": {
    "ExecuteTime": {
     "end_time": "2020-07-17T05:29:19.548100Z",
     "start_time": "2020-07-17T05:29:19.545308Z"
    }
   },
   "outputs": [
    {
     "data": {
      "text/plain": [
       "array([3, 3, 2, 0, 3, 3, 3, 0, 1, 3, 3, 2, 3, 2, 1, 3, 2, 2, 3, 3, 2, 3,\n",
       "       1, 3, 1, 2, 0, 1, 3, 3, 0, 2, 2, 3, 2, 3, 3, 3, 2, 0, 3, 0, 3, 3,\n",
       "       2, 0, 3, 3, 3, 3, 3, 3, 0, 3, 2, 0, 3, 1, 0, 3, 3, 2, 2, 2, 3, 2,\n",
       "       0, 3, 3, 3, 2, 3, 0, 2, 1, 3, 2, 0, 0, 2, 3, 1, 2, 1, 3, 1, 2, 3,\n",
       "       0, 0, 3, 0, 3, 0, 2, 3, 0, 3, 0, 0, 2, 3, 2, 2, 3, 2, 2, 2, 3, 2,\n",
       "       3, 0, 3, 2, 0, 3, 2, 2, 0, 3, 3, 0, 3, 3, 3, 3, 3, 3, 3, 0, 3, 3,\n",
       "       3, 3, 2, 0, 3, 2, 2, 2, 2, 3, 3, 3, 3, 3, 0, 1, 2, 3, 3, 3, 2, 2,\n",
       "       3, 0, 3, 2, 3, 0, 3, 3, 3, 3, 3, 1, 1, 1, 1, 0, 3, 3, 1, 3, 2, 3,\n",
       "       2, 3, 3, 3, 3, 1, 2, 3, 0, 1, 2, 2, 3, 2, 2, 3, 3, 2, 2, 2, 3, 3,\n",
       "       0, 0, 3, 3, 1, 3, 3, 3, 3, 3, 3, 2, 2, 0, 0, 3, 3, 2, 3, 2, 0, 0,\n",
       "       3, 1, 2, 2, 1, 2, 0, 3, 0, 2, 2, 2, 0, 2, 3, 2, 2, 3, 2, 3, 2, 3,\n",
       "       0, 3, 2, 3, 0, 1, 1, 3, 3, 3, 3, 3, 3, 1])"
      ]
     },
     "execution_count": 5,
     "metadata": {},
     "output_type": "execute_result"
    }
   ],
   "source": [
    "np.argmax(node_membership, axis=1)"
   ]
  },
  {
   "cell_type": "markdown",
   "metadata": {},
   "source": [
    "### Event dictionary"
   ]
  },
  {
   "cell_type": "markdown",
   "metadata": {},
   "source": [
    "`event_dict` is a dictionary $\\rightarrow$ (node 1 id, node 2 id): [timestamp of events]"
   ]
  },
  {
   "cell_type": "code",
   "execution_count": 6,
   "metadata": {
    "ExecuteTime": {
     "end_time": "2020-07-17T05:29:57.708177Z",
     "start_time": "2020-07-17T05:29:57.705189Z"
    }
   },
   "outputs": [
    {
     "name": "stdout",
     "output_type": "stream",
     "text": [
      "(3, 7) : [1551.3324 3999.6143 4057.9185 4058.4788 4061.177  4064.0896 4065.0837\n",
      " 4539.348  4541.5537 4573.556  9303.462  9747.149  9747.95   9751.094\n",
      " 9761.715 ]\n"
     ]
    }
   ],
   "source": [
    "for key, val in event_dict.items():\n",
    "    print(key, ':', val)\n",
    "    break"
   ]
  },
  {
   "cell_type": "markdown",
   "metadata": {},
   "source": [
    "Number of generated events in the network:"
   ]
  },
  {
   "cell_type": "code",
   "execution_count": 7,
   "metadata": {
    "ExecuteTime": {
     "end_time": "2020-07-17T05:30:35.867238Z",
     "start_time": "2020-07-17T05:30:35.859331Z"
    }
   },
   "outputs": [
    {
     "data": {
      "text/plain": [
       "621724"
      ]
     },
     "execution_count": 7,
     "metadata": {},
     "output_type": "execute_result"
    }
   ],
   "source": [
    "utils.num_events_in_event_dict(event_dict)"
   ]
  },
  {
   "cell_type": "markdown",
   "metadata": {},
   "source": [
    "Using `generative_model_utils` you can convert `event_dict` into weighted and unweighted adjacency matrix"
   ]
  },
  {
   "cell_type": "markdown",
   "metadata": {},
   "source": [
    "#### Event dictionary to adjacency matrix"
   ]
  },
  {
   "cell_type": "code",
   "execution_count": 8,
   "metadata": {
    "ExecuteTime": {
     "end_time": "2020-07-17T05:31:13.806296Z",
     "start_time": "2020-07-17T05:31:13.785409Z"
    }
   },
   "outputs": [
    {
     "data": {
      "text/plain": [
       "array([[0., 1., 0., ..., 1., 1., 0.],\n",
       "       [1., 0., 1., ..., 1., 1., 1.],\n",
       "       [1., 1., 0., ..., 1., 0., 0.],\n",
       "       ...,\n",
       "       [1., 1., 1., ..., 0., 1., 0.],\n",
       "       [1., 1., 1., ..., 1., 0., 0.],\n",
       "       [0., 1., 0., ..., 0., 1., 0.]])"
      ]
     },
     "execution_count": 8,
     "metadata": {},
     "output_type": "execute_result"
    }
   ],
   "source": [
    "utils.event_dict_to_adjacency(num_nodes, event_dict, dtype=np.float)"
   ]
  },
  {
   "cell_type": "markdown",
   "metadata": {},
   "source": [
    "#### Event dictionary to aggregate / wighted adjacency matrix"
   ]
  },
  {
   "cell_type": "code",
   "execution_count": 9,
   "metadata": {
    "ExecuteTime": {
     "end_time": "2020-07-17T05:31:50.144113Z",
     "start_time": "2020-07-17T05:31:50.130299Z"
    }
   },
   "outputs": [
    {
     "data": {
      "text/plain": [
       "array([[ 0., 53.,  0., ..., 16., 17.,  0.],\n",
       "       [18.,  0., 31., ...,  9., 35.,  1.],\n",
       "       [15.,  1.,  0., ...,  2.,  0.,  0.],\n",
       "       ...,\n",
       "       [13.,  1.,  2., ...,  0., 12.,  0.],\n",
       "       [16.,  7.,  1., ..., 13.,  0.,  0.],\n",
       "       [ 0.,  2.,  0., ...,  0.,  1.,  0.]])"
      ]
     },
     "execution_count": 9,
     "metadata": {},
     "output_type": "execute_result"
    }
   ],
   "source": [
    "utils.event_dict_to_aggregated_adjacency(num_nodes, event_dict, dtype=np.float)"
   ]
  },
  {
   "cell_type": "markdown",
   "metadata": {},
   "source": [
    "#### Event dictionary to event list"
   ]
  },
  {
   "cell_type": "markdown",
   "metadata": {},
   "source": [
    "Most timestamped relational event datasets come in the event list format where every entry in the list has the format $\\rightarrow$ [node from, node to, timestamp], sorted by event times. This can be done as follows:"
   ]
  },
  {
   "cell_type": "code",
   "execution_count": 10,
   "metadata": {
    "ExecuteTime": {
     "end_time": "2020-07-17T05:32:28.735680Z",
     "start_time": "2020-07-17T05:32:28.131241Z"
    }
   },
   "outputs": [
    {
     "data": {
      "text/plain": [
       "array([[1.20000000e+02, 4.80000000e+01, 3.49631831e-02],\n",
       "       [1.32000000e+02, 6.00000000e+00, 2.12249026e-01],\n",
       "       [2.90000000e+01, 6.00000000e+00, 2.56518185e-01],\n",
       "       ...,\n",
       "       [1.91000000e+02, 2.13000000e+02, 9.99997266e+03],\n",
       "       [4.80000000e+01, 5.60000000e+01, 9.99998438e+03],\n",
       "       [7.00000000e+01, 1.43000000e+02, 9.99998633e+03]])"
      ]
     },
     "execution_count": 10,
     "metadata": {},
     "output_type": "execute_result"
    }
   ],
   "source": [
    "utils.event_dict_to_event_list(event_dict)"
   ]
  },
  {
   "cell_type": "markdown",
   "metadata": {},
   "source": [
    "Here node id's are float to accommodate the timestamp. They can be converted to int if needed."
   ]
  },
  {
   "cell_type": "markdown",
   "metadata": {},
   "source": [
    "## Generated community structure"
   ]
  },
  {
   "cell_type": "code",
   "execution_count": 11,
   "metadata": {
    "ExecuteTime": {
     "end_time": "2020-07-17T05:33:07.319516Z",
     "start_time": "2020-07-17T05:33:07.081143Z"
    }
   },
   "outputs": [
    {
     "data": {
      "image/png": "[encoded data removed]",
      "text/plain": [
       "<Figure size 432x288 with 1 Axes>"
      ]
     },
     "metadata": {
      "needs_background": "light"
     },
     "output_type": "display_data"
    }
   ],
   "source": [
    "community_membership = utils.node_membership_to_community_membership(node_membership, num_classes, is_one_hot=True)\n",
    "community_size = [len(community) for community in community_membership]\n",
    "node_ids = np.concatenate(community_membership)\n",
    "sorting_map = {}\n",
    "for i in range(node_ids.shape[0]):\n",
    "    sorting_map[node_ids[i]] = i\n",
    "\n",
    "sorted_adj = np.zeros((num_nodes, num_nodes), dtype=np.int)\n",
    "\n",
    "for (u, v), event_times in event_dict.items():\n",
    "    if len(event_times) != 0:\n",
    "        sorted_adj[sorting_map[u], sorting_map[v]] = 1\n",
    "\n",
    "plt.spy(sorted_adj, marker='.', markersize=0.5, precision=0)\n",
    "cumulative_community_size = 0\n",
    "for com_size in community_size:\n",
    "    cumulative_community_size += com_size\n",
    "    plt.axhline(cumulative_community_size, color='black', linewidth=1)\n",
    "    plt.axvline(cumulative_community_size, color='black', linewidth=1)\n",
    "\n",
    "plt.show()"
   ]
  },
  {
   "cell_type": "markdown",
   "metadata": {},
   "source": [
    "Here we can see the generated community structure in the generated network with the relative size of each community as well as more inter-community interactions vs. intra-community. Obviously this structure will change based on the model parameters."
   ]
  },
  {
   "cell_type": "markdown",
   "metadata": {},
   "source": [
    "# Fitting (retrieve / estimate model parameters) the generated CHIP network"
   ]
  },
  {
   "cell_type": "markdown",
   "metadata": {},
   "source": [
    "## Spectral clustering on aggregated adjacency matrix"
   ]
  },
  {
   "cell_type": "code",
   "execution_count": 12,
   "metadata": {
    "ExecuteTime": {
     "end_time": "2020-07-17T05:33:45.267348Z",
     "start_time": "2020-07-17T05:33:45.222181Z"
    }
   },
   "outputs": [
    {
     "name": "stdout",
     "output_type": "stream",
     "text": [
      "Estimated Community assignment prob: [0.26953125 0.46875    0.16796875 0.09375   ]\n",
      "True Community assignment distribution: [0.16796875 0.09375    0.26953125 0.46875   ]\n",
      "Adjusted Rank Score: 1.0\n"
     ]
    }
   ],
   "source": [
    "community_membership = utils.one_hot_to_class_assignment(node_membership)\n",
    "\n",
    "agg_adj = utils.event_dict_to_aggregated_adjacency(num_nodes, event_dict, dtype=np.float)\n",
    "est_node_membership = spectral_cluster(agg_adj, num_classes=num_classes)\n",
    "rand = adjusted_rand_score(community_membership, est_node_membership)\n",
    "print(\"Estimated Community assignment prob:\", np.unique(est_node_membership, return_counts=True)[1] / num_nodes)\n",
    "print(\"True Community assignment distribution:\", np.unique(community_membership, return_counts=True)[1] / num_nodes)\n",
    "print(\"Adjusted Rank Score:\", rand)"
   ]
  },
  {
   "cell_type": "markdown",
   "metadata": {},
   "source": [
    "## CHIP parameter estimation"
   ]
  },
  {
   "cell_type": "code",
   "execution_count": 13,
   "metadata": {
    "ExecuteTime": {
     "end_time": "2020-07-17T05:34:48.921819Z",
     "start_time": "2020-07-17T05:34:23.225418Z"
    }
   },
   "outputs": [],
   "source": [
    "(est_bp_mu, \n",
    " est_bp_alpha, \n",
    " est_bp_beta, \n",
    " est_bp_m) = fitting_utils.estimate_bp_hawkes_params(event_dict, est_node_membership, end_time, num_classes, agg_adj)"
   ]
  },
  {
   "cell_type": "markdown",
   "metadata": {},
   "source": [
    "### Estimated $\\mu$"
   ]
  },
  {
   "cell_type": "code",
   "execution_count": 14,
   "metadata": {
    "ExecuteTime": {
     "end_time": "2020-07-17T05:35:27.449549Z",
     "start_time": "2020-07-17T05:35:27.447119Z"
    }
   },
   "outputs": [
    {
     "data": {
      "text/plain": [
       "array([[4.84555526e-04, 9.68848418e-05, 1.04600055e-04, 9.94617307e-05],\n",
       "       [1.02146208e-04, 5.12034009e-04, 1.00980435e-04, 9.81704962e-05],\n",
       "       [1.03707119e-04, 9.84750721e-05, 5.10224706e-04, 1.01603951e-04],\n",
       "       [1.09812986e-04, 1.02043416e-04, 1.05369049e-04, 5.16352856e-04]])"
      ]
     },
     "execution_count": 14,
     "metadata": {},
     "output_type": "execute_result"
    }
   ],
   "source": [
    "est_bp_mu"
   ]
  },
  {
   "cell_type": "code",
   "execution_count": 15,
   "metadata": {
    "ExecuteTime": {
     "end_time": "2020-07-17T05:36:05.755181Z",
     "start_time": "2020-07-17T05:36:05.752570Z"
    }
   },
   "outputs": [
    {
     "name": "stdout",
     "output_type": "stream",
     "text": [
      "MSE: 5.895727358121144e-11\n"
     ]
    }
   ],
   "source": [
    "print('MSE:', np.mean((est_bp_mu - bp_mu) ** 2))"
   ]
  },
  {
   "cell_type": "markdown",
   "metadata": {
    "ExecuteTime": {
     "end_time": "2020-07-15T05:13:22.075903Z",
     "start_time": "2020-07-15T05:13:22.074416Z"
    }
   },
   "source": [
    "### Estimated $m$"
   ]
  },
  {
   "cell_type": "code",
   "execution_count": 16,
   "metadata": {
    "ExecuteTime": {
     "end_time": "2020-07-17T05:36:44.379530Z",
     "start_time": "2020-07-17T05:36:44.376848Z"
    }
   },
   "outputs": [
    {
     "data": {
      "text/plain": [
       "array([[0.78439078, 0.70357814, 0.67882814, 0.69509695],\n",
       "       [0.68971656, 0.77245412, 0.67881462, 0.69238273],\n",
       "       [0.68900443, 0.69334256, 0.76939718, 0.65337098],\n",
       "       [0.66373834, 0.68221774, 0.66281904, 0.77754876]])"
      ]
     },
     "execution_count": 16,
     "metadata": {},
     "output_type": "execute_result"
    }
   ],
   "source": [
    "est_bp_m"
   ]
  },
  {
   "cell_type": "code",
   "execution_count": 17,
   "metadata": {
    "ExecuteTime": {
     "end_time": "2020-07-17T05:37:22.127087Z",
     "start_time": "2020-07-17T05:37:22.124449Z"
    }
   },
   "outputs": [
    {
     "name": "stdout",
     "output_type": "stream",
     "text": [
      "MSE: 0.0002477055820774565\n"
     ]
    }
   ],
   "source": [
    "print('MSE:', np.mean((est_bp_m - (bp_alpha / bp_beta)) ** 2))"
   ]
  },
  {
   "cell_type": "markdown",
   "metadata": {},
   "source": [
    "### Estimated $\\alpha$"
   ]
  },
  {
   "cell_type": "code",
   "execution_count": 18,
   "metadata": {
    "ExecuteTime": {
     "end_time": "2020-07-17T05:38:00.293668Z",
     "start_time": "2020-07-17T05:38:00.290351Z"
    }
   },
   "outputs": [
    {
     "data": {
      "text/plain": [
       "array([[0.14098241, 0.09085458, 0.09071191, 0.08985058],\n",
       "       [0.08924655, 0.1392345 , 0.08551891, 0.0892335 ],\n",
       "       [0.08911973, 0.09062246, 0.1392908 , 0.08695579],\n",
       "       [0.08549786, 0.08708399, 0.08806748, 0.14005558]])"
      ]
     },
     "execution_count": 18,
     "metadata": {},
     "output_type": "execute_result"
    }
   ],
   "source": [
    "est_bp_alpha"
   ]
  },
  {
   "cell_type": "code",
   "execution_count": 19,
   "metadata": {
    "ExecuteTime": {
     "end_time": "2020-07-17T05:38:38.436325Z",
     "start_time": "2020-07-17T05:38:38.433839Z"
    }
   },
   "outputs": [
    {
     "name": "stdout",
     "output_type": "stream",
     "text": [
      "MSE: 4.21803524743567e-06\n"
     ]
    }
   ],
   "source": [
    "print('MSE:', np.mean((est_bp_alpha - bp_alpha) ** 2))"
   ]
  },
  {
   "cell_type": "markdown",
   "metadata": {},
   "source": [
    "### Estimated $\\beta$"
   ]
  },
  {
   "cell_type": "code",
   "execution_count": 20,
   "metadata": {
    "ExecuteTime": {
     "end_time": "2020-07-17T05:39:14.975667Z",
     "start_time": "2020-07-17T05:39:14.973312Z"
    }
   },
   "outputs": [
    {
     "data": {
      "text/plain": [
       "array([[0.17973492, 0.12913218, 0.13363016, 0.12926337],\n",
       "       [0.12939598, 0.18024954, 0.12598272, 0.12887887],\n",
       "       [0.12934566, 0.13070373, 0.18103887, 0.13308793],\n",
       "       [0.1288126 , 0.12764837, 0.13286805, 0.1801245 ]])"
      ]
     },
     "execution_count": 20,
     "metadata": {},
     "output_type": "execute_result"
    }
   ],
   "source": [
    "est_bp_beta"
   ]
  },
  {
   "cell_type": "code",
   "execution_count": 21,
   "metadata": {
    "ExecuteTime": {
     "end_time": "2020-07-17T05:39:51.738217Z",
     "start_time": "2020-07-17T05:39:51.735811Z"
    }
   },
   "outputs": [
    {
     "name": "stdout",
     "output_type": "stream",
     "text": [
      "MSE: 3.6928726400341343e-06\n"
     ]
    }
   ],
   "source": [
    "print('MSE:', np.mean((est_bp_beta - bp_beta) ** 2))"
   ]
  }
 ],
 "metadata": {
  "kernelspec": {
   "display_name": "Python 3",
   "language": "python",
   "name": "python3"
  },
  "language_info": {
   "codemirror_mode": {
    "name": "ipython",
    "version": 3
   },
   "file_extension": ".py",
   "mimetype": "text/x-python",
   "name": "python",
   "nbconvert_exporter": "python",
   "pygments_lexer": "ipython3",
   "version": "3.6.9"
  },
  "toc": {
   "base_numbering": 1,
   "nav_menu": {},
   "number_sections": true,
   "sideBar": true,
   "skip_h1_title": false,
   "title_cell": "Table of Contents",
   "title_sidebar": "Contents",
   "toc_cell": false,
   "toc_position": {},
   "toc_section_display": true,
   "toc_window_display": false
  },
  "varInspector": {
   "cols": {
    "lenName": 16,
    "lenType": 16,
    "lenVar": 40
   },
   "kernels_config": {
    "python": {
     "delete_cmd_postfix": "",
     "delete_cmd_prefix": "del ",
     "library": "var_list.py",
     "varRefreshCmd": "print(var_dic_list())"
    },
    "r": {
     "delete_cmd_postfix": ") ",
     "delete_cmd_prefix": "rm(",
     "library": "var_list.r",
     "varRefreshCmd": "cat(var_dic_list()) "
    }
   },
   "types_to_exclude": [
    "module",
    "function",
    "builtin_function_or_method",
    "instance",
    "_Feature"
   ],
   "window_display": false
  }
 },
 "nbformat": 4,
 "nbformat_minor": 2
}
