{
 "cells": [
  {
   "cell_type": "markdown",
   "metadata": {},
   "source": [
    "# Generating Networks Using CHIP"
   ]
  },
  {
   "cell_type": "markdown",
   "metadata": {},
   "source": [
    "In this notebook we demonstrate how to generate continuous-time networks of timestamped relational events using the CHIP network model."
   ]
  },
  {
   "cell_type": "code",
   "execution_count": 3,
   "metadata": {
    "ExecuteTime": {
     "end_time": "2020-07-14T03:49:32.852292Z",
     "start_time": "2020-07-14T03:49:32.846641Z"
    }
   },
   "outputs": [],
   "source": [
    "import sys  \n",
    "sys.path.insert(0, '../.')\n",
    "\n",
    "import numpy as np\n",
    "from chip_generative_model import community_generative_model"
   ]
  },
  {
   "cell_type": "markdown",
   "metadata": {
    "ExecuteTime": {
     "end_time": "2020-07-14T02:33:49.091643Z",
     "start_time": "2020-07-14T02:33:49.077911Z"
    }
   },
   "source": [
    "## CHIP model parameters description"
   ]
  },
  {
   "cell_type": "markdown",
   "metadata": {},
   "source": [
    "The CHIP model has parameters ($\\vec{\\pi}, \\mu, \\alpha, \\beta$). Each node is assigned to a community or block $a \\in \\{1, \\ldots, k\\}$ with probability $\\pi_a$, where each entry of $\\vec{\\pi}$ is non-negative and all entries sum to $1$.\n",
    "\n",
    "CHIP networks can be generated using:\n",
    "\n",
    "`community_generative_model(num_nodes, class_prob, bp_mu, bp_alpha, bp_beta, end_time, n_cores=1, burnin=None, seed=None)`\n",
    "\n",
    "`num_nodes:` (int) Total number of nodes in the network\n",
    "\n",
    "`class_prob:` (list) Probability of class memberships from class $0$ to $k - 1$. Make sure it sums up to 1\n",
    "\n",
    "`param bp_mu` $k \\times k$ matrix where entry $ij$ denotes the $\\mu$ of Hawkes process for block pair $(b_i, b_j)$\n",
    "\n",
    "`bp_alpha:` $k \\times k$ matrix where entry $ij$ denotes the $\\alpha$ of Hawkes process for block pair $(b_i, b_j)$\n",
    "\n",
    "`bp_beta` $k \\times k$ matrix where entry $ij$ denotes the $\\beta$ of Hawkes process for block pair $(b_i, b_j)$\n",
    "\n",
    "`end_time:` (float) end_time of hawkes simulation\n",
    "\n",
    "`n_cores:` (int) Optional default is 1 (no parallelization). Number of parallel cores to be used. If -1, maximum number of cores will be used\n",
    "\n",
    "`burnin:` (int) Optional default is None. Time before which all events are discarded. None if no burnin needed.\n",
    "\n",
    "`seed:` (int) Optional default is None. Seed for all random processes"
   ]
  },
  {
   "cell_type": "markdown",
   "metadata": {},
   "source": [
    "## Setting up model parameters"
   ]
  },
  {
   "cell_type": "markdown",
   "metadata": {},
   "source": [
    "Most simulations in the paper break down $\\mu, \\alpha,$ and  $\\beta$ parameters to diagonal vs. off-diagonal entires. All diagonal entires will have the same value and so do the off-diagonal ones.\n",
    "\n",
    "Here we are going to follow the same structure; however, you are free to set a unique value for every entry of the those matrices."
   ]
  },
  {
   "cell_type": "code",
   "execution_count": 5,
   "metadata": {
    "ExecuteTime": {
     "end_time": "2020-07-14T03:51:04.359938Z",
     "start_time": "2020-07-14T03:51:04.344628Z"
    }
   },
   "outputs": [],
   "source": [
    "seed = 42\n",
    "n_cores = -1\n",
    "end_time = 400\n",
    "num_nodes = 1000\n",
    "class_probabilities = [0.2, 0.1, 0.3, 0.4] # The length of this list indicates the number of communites\n",
    "\n",
    "num_classes = len(class_probabilities)\n",
    "\n",
    "bp_mu = np.ones((num_classes, num_classes), dtype=np.float) * 0.6\n",
    "np.fill_diagonal(bp_mu, 1.8)\n",
    "\n",
    "bp_alpha = np.ones((num_classes, num_classes), dtype=np.float) * 4.5\n",
    "np.fill_diagonal(bp_alpha, 8.5)\n",
    "\n",
    "bp_beta = np.ones((num_classes, num_classes), dtype=np.float) * 8.0\n",
    "np.fill_diagonal(bp_beta, 6.0)"
   ]
  },
  {
   "cell_type": "markdown",
   "metadata": {},
   "source": [
    "## Generating a network"
   ]
  },
  {
   "cell_type": "code",
   "execution_count": 6,
   "metadata": {
    "ExecuteTime": {
     "end_time": "2020-07-14T03:51:27.359939Z",
     "start_time": "2020-07-14T03:51:27.345199Z"
    }
   },
   "outputs": [
    {
     "ename": "TypeError",
     "evalue": "community_generative_model() missing 1 required positional argument: 'end_time'",
     "output_type": "error",
     "traceback": [
      "\u001b[0;31m---------------------------------------------------------------------------\u001b[0m",
      "\u001b[0;31mTypeError\u001b[0m                                 Traceback (most recent call last)",
      "\u001b[0;32m<ipython-input-6-faeecf9e3e0e>\u001b[0m in \u001b[0;36m<module>\u001b[0;34m()\u001b[0m\n\u001b[1;32m      4\u001b[0m                                                           \u001b[0mend_time\u001b[0m\u001b[0;34m,\u001b[0m\u001b[0;34m\u001b[0m\u001b[0m\n\u001b[1;32m      5\u001b[0m                                                           \u001b[0mn_cores\u001b[0m\u001b[0;34m=\u001b[0m\u001b[0mn_cores\u001b[0m\u001b[0;34m,\u001b[0m\u001b[0;34m\u001b[0m\u001b[0m\n\u001b[0;32m----> 6\u001b[0;31m                                                           seed=seed)\n\u001b[0m",
      "\u001b[0;31mTypeError\u001b[0m: community_generative_model() missing 1 required positional argument: 'end_time'"
     ]
    }
   ],
   "source": [
    "node_membership, event_dicts = community_generative_model(num_nodes,\n",
    "                                                          class_probabilities,\n",
    "                                                          bp_mu, bp_alpha, bp_beta,\n",
    "                                                          end_time, \n",
    "                                                          n_cores=n_cores,\n",
    "                                                          seed=seed)"
   ]
  },
  {
   "cell_type": "code",
   "execution_count": null,
   "metadata": {},
   "outputs": [],
   "source": []
  }
 ],
 "metadata": {
  "kernelspec": {
   "display_name": "Python 3",
   "language": "python",
   "name": "python3"
  },
  "language_info": {
   "codemirror_mode": {
    "name": "ipython",
    "version": 3
   },
   "file_extension": ".py",
   "mimetype": "text/x-python",
   "name": "python",
   "nbconvert_exporter": "python",
   "pygments_lexer": "ipython3",
   "version": "3.7.1"
  },
  "toc": {
   "base_numbering": 1,
   "nav_menu": {},
   "number_sections": true,
   "sideBar": true,
   "skip_h1_title": false,
   "title_cell": "Table of Contents",
   "title_sidebar": "Contents",
   "toc_cell": false,
   "toc_position": {},
   "toc_section_display": true,
   "toc_window_display": false
  },
  "varInspector": {
   "cols": {
    "lenName": 16,
    "lenType": 16,
    "lenVar": 40
   },
   "kernels_config": {
    "python": {
     "delete_cmd_postfix": "",
     "delete_cmd_prefix": "del ",
     "library": "var_list.py",
     "varRefreshCmd": "print(var_dic_list())"
    },
    "r": {
     "delete_cmd_postfix": ") ",
     "delete_cmd_prefix": "rm(",
     "library": "var_list.r",
     "varRefreshCmd": "cat(var_dic_list()) "
    }
   },
   "types_to_exclude": [
    "module",
    "function",
    "builtin_function_or_method",
    "instance",
    "_Feature"
   ],
   "window_display": false
  }
 },
 "nbformat": 4,
 "nbformat_minor": 2
}
